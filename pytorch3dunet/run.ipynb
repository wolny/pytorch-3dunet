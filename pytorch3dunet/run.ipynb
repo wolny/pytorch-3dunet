{
 "cells": [
  {
   "cell_type": "code",
   "execution_count": null,
   "id": "b744f60f-e299-42ed-9bbb-063018653750",
   "metadata": {},
   "outputs": [],
   "source": [
    "#import unet3d.config\n",
    "\n",
    "#unet3d.config.load_config('config.yaml')\n",
    "\n",
    "import train\n",
    "\n",
    "train.logger"
   ]
  },
  {
   "cell_type": "code",
   "execution_count": null,
   "id": "4a54fa41-ecb9-474d-9eb0-231c00e95b34",
   "metadata": {
    "tags": []
   },
   "outputs": [],
   "source": [
    "train.main('config.yaml')"
   ]
  },
  {
   "cell_type": "code",
   "execution_count": null,
   "id": "6c094e41-cf4f-4fd1-8cd7-6a1df26b7247",
   "metadata": {},
   "outputs": [],
   "source": []
  }
 ],
 "metadata": {
  "kernelspec": {
   "display_name": "Python 3",
   "language": "python",
   "name": "python3"
  },
  "language_info": {
   "codemirror_mode": {
    "name": "ipython",
    "version": 3
   },
   "file_extension": ".py",
   "mimetype": "text/x-python",
   "name": "python",
   "nbconvert_exporter": "python",
   "pygments_lexer": "ipython3",
   "version": "3.9.4"
  }
 },
 "nbformat": 4,
 "nbformat_minor": 5
}
