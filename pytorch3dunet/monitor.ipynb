{
 "cells": [
  {
   "cell_type": "code",
   "execution_count": 1,
   "id": "46afd9f5-37d3-4d68-9e5a-c56e390b004a",
   "metadata": {},
   "outputs": [],
   "source": [
    "import tensorboard"
   ]
  },
  {
   "cell_type": "code",
   "execution_count": 2,
   "id": "f59b6788-0518-4158-b487-b5fbe526f2ff",
   "metadata": {},
   "outputs": [],
   "source": [
    "%load_ext tensorboard"
   ]
  },
  {
   "cell_type": "code",
   "execution_count": null,
   "id": "cf68eb74-3c0c-4272-83a0-5810704fe9fa",
   "metadata": {},
   "outputs": [],
   "source": [
    "%tensorboard --logdir ../dataset_exp50.1/training_checkpoint/logs/"
   ]
  },
  {
   "cell_type": "code",
   "execution_count": 3,
   "id": "132581b3-0709-49e0-9ea9-c25f08a99828",
   "metadata": {},
   "outputs": [
    {
     "data": {
      "text/html": [
       "\n",
       "      <iframe id=\"tensorboard-frame-f738de342598b38a\" width=\"100%\" height=\"800\" frameborder=\"0\">\n",
       "      </iframe>\n",
       "      <script>\n",
       "        (function() {\n",
       "          const frame = document.getElementById(\"tensorboard-frame-f738de342598b38a\");\n",
       "          const url = new URL(\"/\", window.location);\n",
       "          const port = 6006;\n",
       "          if (port) {\n",
       "            url.port = port;\n",
       "          }\n",
       "          frame.src = url;\n",
       "        })();\n",
       "      </script>\n",
       "    "
      ],
      "text/plain": [
       "<IPython.core.display.HTML object>"
      ]
     },
     "metadata": {},
     "output_type": "display_data"
    }
   ],
   "source": [
    "%tensorboard --logdir ../resources/3DUnet_lightsheet_nuclei/test/log/logs"
   ]
  },
  {
   "cell_type": "code",
   "execution_count": null,
   "id": "92dd0d30-f438-4e5c-8ec1-5b48d6d1703e",
   "metadata": {},
   "outputs": [],
   "source": []
  }
 ],
 "metadata": {
  "kernelspec": {
   "display_name": "Python 3",
   "language": "python",
   "name": "python3"
  },
  "language_info": {
   "codemirror_mode": {
    "name": "ipython",
    "version": 3
   },
   "file_extension": ".py",
   "mimetype": "text/x-python",
   "name": "python",
   "nbconvert_exporter": "python",
   "pygments_lexer": "ipython3",
   "version": "3.9.4"
  }
 },
 "nbformat": 4,
 "nbformat_minor": 5
}
